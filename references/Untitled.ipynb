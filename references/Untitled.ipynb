{
 "cells": [
  {
   "cell_type": "code",
   "execution_count": 4,
   "metadata": {
    "ExecuteTime": {
     "end_time": "2020-05-27T03:06:56.548845Z",
     "start_time": "2020-05-27T03:06:56.546170Z"
    }
   },
   "outputs": [],
   "source": [
    "import pandas as pd "
   ]
  },
  {
   "cell_type": "code",
   "execution_count": 13,
   "metadata": {
    "ExecuteTime": {
     "end_time": "2020-05-27T03:07:57.734560Z",
     "start_time": "2020-05-27T03:07:57.706650Z"
    }
   },
   "outputs": [],
   "source": [
    "df = pd.read_excel('/Users/seanammirati/dev/fantasy_football_predictions/data/external/injury_by_player.xlsx', header=2)"
   ]
  },
  {
   "cell_type": "code",
   "execution_count": 14,
   "metadata": {
    "ExecuteTime": {
     "end_time": "2020-05-27T03:07:58.059999Z",
     "start_time": "2020-05-27T03:07:58.050036Z"
    }
   },
   "outputs": [
    {
     "data": {
      "text/html": [
       "<div>\n",
       "<style scoped>\n",
       "    .dataframe tbody tr th:only-of-type {\n",
       "        vertical-align: middle;\n",
       "    }\n",
       "\n",
       "    .dataframe tbody tr th {\n",
       "        vertical-align: top;\n",
       "    }\n",
       "\n",
       "    .dataframe thead th {\n",
       "        text-align: right;\n",
       "    }\n",
       "</style>\n",
       "<table border=\"1\" class=\"dataframe\">\n",
       "  <thead>\n",
       "    <tr style=\"text-align: right;\">\n",
       "      <th></th>\n",
       "      <th>Player</th>\n",
       "      <th>total_pct</th>\n",
       "      <th>ngames</th>\n",
       "      <th>game_pct</th>\n",
       "      <th>durability</th>\n",
       "    </tr>\n",
       "  </thead>\n",
       "  <tbody>\n",
       "    <tr>\n",
       "      <th>0</th>\n",
       "      <td>Patrick Mahomes, QB KC</td>\n",
       "      <td>0.243</td>\n",
       "      <td>0.1</td>\n",
       "      <td>0.017</td>\n",
       "      <td>127.0</td>\n",
       "    </tr>\n",
       "    <tr>\n",
       "      <th>1</th>\n",
       "      <td>Lamar Jackson, QB BAL</td>\n",
       "      <td>0.253</td>\n",
       "      <td>0.1</td>\n",
       "      <td>0.018</td>\n",
       "      <td>14.0</td>\n",
       "    </tr>\n",
       "    <tr>\n",
       "      <th>2</th>\n",
       "      <td>Dak Prescott, QB DAL</td>\n",
       "      <td>0.253</td>\n",
       "      <td>0.1</td>\n",
       "      <td>0.018</td>\n",
       "      <td>25.0</td>\n",
       "    </tr>\n",
       "    <tr>\n",
       "      <th>3</th>\n",
       "      <td>Kyler Murray, QB ARI</td>\n",
       "      <td>0.291</td>\n",
       "      <td>0.6</td>\n",
       "      <td>0.021</td>\n",
       "      <td>0.0</td>\n",
       "    </tr>\n",
       "    <tr>\n",
       "      <th>4</th>\n",
       "      <td>Russell Wilson, QB SEA</td>\n",
       "      <td>0.324</td>\n",
       "      <td>0.2</td>\n",
       "      <td>0.024</td>\n",
       "      <td>127.0</td>\n",
       "    </tr>\n",
       "    <tr>\n",
       "      <th>...</th>\n",
       "      <td>...</td>\n",
       "      <td>...</td>\n",
       "      <td>...</td>\n",
       "      <td>...</td>\n",
       "      <td>...</td>\n",
       "    </tr>\n",
       "    <tr>\n",
       "      <th>205</th>\n",
       "      <td>Jace Sternberger, TE GB</td>\n",
       "      <td>0.352</td>\n",
       "      <td>0.0</td>\n",
       "      <td>0.027</td>\n",
       "      <td>5.0</td>\n",
       "    </tr>\n",
       "    <tr>\n",
       "      <th>206</th>\n",
       "      <td>Jesse James, TE DET</td>\n",
       "      <td>0.339</td>\n",
       "      <td>0.5</td>\n",
       "      <td>0.025</td>\n",
       "      <td>127.0</td>\n",
       "    </tr>\n",
       "    <tr>\n",
       "      <th>207</th>\n",
       "      <td>Irv Smith, TE MIN</td>\n",
       "      <td>0.334</td>\n",
       "      <td>0.0</td>\n",
       "      <td>0.025</td>\n",
       "      <td>5.0</td>\n",
       "    </tr>\n",
       "    <tr>\n",
       "      <th>208</th>\n",
       "      <td>Foster Moreau, TE LVR</td>\n",
       "      <td>0.334</td>\n",
       "      <td>0.0</td>\n",
       "      <td>0.025</td>\n",
       "      <td>5.0</td>\n",
       "    </tr>\n",
       "    <tr>\n",
       "      <th>209</th>\n",
       "      <td>Dawson Knox, TE BUF</td>\n",
       "      <td>0.326</td>\n",
       "      <td>0.1</td>\n",
       "      <td>0.024</td>\n",
       "      <td>5.0</td>\n",
       "    </tr>\n",
       "  </tbody>\n",
       "</table>\n",
       "<p>210 rows × 5 columns</p>\n",
       "</div>"
      ],
      "text/plain": [
       "                       Player  total_pct  ngames  game_pct  durability\n",
       "0     Patrick Mahomes, QB KC       0.243     0.1     0.017       127.0\n",
       "1      Lamar Jackson, QB BAL       0.253     0.1     0.018        14.0\n",
       "2       Dak Prescott, QB DAL       0.253     0.1     0.018        25.0\n",
       "3       Kyler Murray, QB ARI       0.291     0.6     0.021         0.0\n",
       "4     Russell Wilson, QB SEA       0.324     0.2     0.024       127.0\n",
       "..                        ...        ...     ...       ...         ...\n",
       "205  Jace Sternberger, TE GB       0.352     0.0     0.027         5.0\n",
       "206      Jesse James, TE DET       0.339     0.5     0.025       127.0\n",
       "207        Irv Smith, TE MIN       0.334     0.0     0.025         5.0\n",
       "208    Foster Moreau, TE LVR       0.334     0.0     0.025         5.0\n",
       "209      Dawson Knox, TE BUF       0.326     0.1     0.024         5.0\n",
       "\n",
       "[210 rows x 5 columns]"
      ]
     },
     "execution_count": 14,
     "metadata": {},
     "output_type": "execute_result"
    }
   ],
   "source": [
    "df"
   ]
  },
  {
   "cell_type": "code",
   "execution_count": 15,
   "metadata": {
    "ExecuteTime": {
     "end_time": "2020-05-27T03:07:58.237310Z",
     "start_time": "2020-05-27T03:07:58.233837Z"
    }
   },
   "outputs": [],
   "source": [
    "df['full_name'] = df['Player'].str.extract('(.*),.*')"
   ]
  },
  {
   "cell_type": "code",
   "execution_count": 16,
   "metadata": {
    "ExecuteTime": {
     "end_time": "2020-05-27T03:07:58.393561Z",
     "start_time": "2020-05-27T03:07:58.389895Z"
    }
   },
   "outputs": [],
   "source": [
    "df = df[['full_name', 'game_pct', 'ngames']]"
   ]
  },
  {
   "cell_type": "code",
   "execution_count": 17,
   "metadata": {
    "ExecuteTime": {
     "end_time": "2020-05-27T03:07:58.971065Z",
     "start_time": "2020-05-27T03:07:58.963381Z"
    }
   },
   "outputs": [
    {
     "data": {
      "text/html": [
       "<div>\n",
       "<style scoped>\n",
       "    .dataframe tbody tr th:only-of-type {\n",
       "        vertical-align: middle;\n",
       "    }\n",
       "\n",
       "    .dataframe tbody tr th {\n",
       "        vertical-align: top;\n",
       "    }\n",
       "\n",
       "    .dataframe thead th {\n",
       "        text-align: right;\n",
       "    }\n",
       "</style>\n",
       "<table border=\"1\" class=\"dataframe\">\n",
       "  <thead>\n",
       "    <tr style=\"text-align: right;\">\n",
       "      <th></th>\n",
       "      <th>full_name</th>\n",
       "      <th>game_pct</th>\n",
       "      <th>ngames</th>\n",
       "    </tr>\n",
       "  </thead>\n",
       "  <tbody>\n",
       "    <tr>\n",
       "      <th>0</th>\n",
       "      <td>Patrick Mahomes</td>\n",
       "      <td>0.017</td>\n",
       "      <td>0.1</td>\n",
       "    </tr>\n",
       "    <tr>\n",
       "      <th>1</th>\n",
       "      <td>Lamar Jackson</td>\n",
       "      <td>0.018</td>\n",
       "      <td>0.1</td>\n",
       "    </tr>\n",
       "    <tr>\n",
       "      <th>2</th>\n",
       "      <td>Dak Prescott</td>\n",
       "      <td>0.018</td>\n",
       "      <td>0.1</td>\n",
       "    </tr>\n",
       "    <tr>\n",
       "      <th>3</th>\n",
       "      <td>Kyler Murray</td>\n",
       "      <td>0.021</td>\n",
       "      <td>0.6</td>\n",
       "    </tr>\n",
       "    <tr>\n",
       "      <th>4</th>\n",
       "      <td>Russell Wilson</td>\n",
       "      <td>0.024</td>\n",
       "      <td>0.2</td>\n",
       "    </tr>\n",
       "    <tr>\n",
       "      <th>...</th>\n",
       "      <td>...</td>\n",
       "      <td>...</td>\n",
       "      <td>...</td>\n",
       "    </tr>\n",
       "    <tr>\n",
       "      <th>205</th>\n",
       "      <td>Jace Sternberger</td>\n",
       "      <td>0.027</td>\n",
       "      <td>0.0</td>\n",
       "    </tr>\n",
       "    <tr>\n",
       "      <th>206</th>\n",
       "      <td>Jesse James</td>\n",
       "      <td>0.025</td>\n",
       "      <td>0.5</td>\n",
       "    </tr>\n",
       "    <tr>\n",
       "      <th>207</th>\n",
       "      <td>Irv Smith</td>\n",
       "      <td>0.025</td>\n",
       "      <td>0.0</td>\n",
       "    </tr>\n",
       "    <tr>\n",
       "      <th>208</th>\n",
       "      <td>Foster Moreau</td>\n",
       "      <td>0.025</td>\n",
       "      <td>0.0</td>\n",
       "    </tr>\n",
       "    <tr>\n",
       "      <th>209</th>\n",
       "      <td>Dawson Knox</td>\n",
       "      <td>0.024</td>\n",
       "      <td>0.1</td>\n",
       "    </tr>\n",
       "  </tbody>\n",
       "</table>\n",
       "<p>210 rows × 3 columns</p>\n",
       "</div>"
      ],
      "text/plain": [
       "            full_name  game_pct  ngames\n",
       "0     Patrick Mahomes     0.017     0.1\n",
       "1       Lamar Jackson     0.018     0.1\n",
       "2        Dak Prescott     0.018     0.1\n",
       "3        Kyler Murray     0.021     0.6\n",
       "4      Russell Wilson     0.024     0.2\n",
       "..                ...       ...     ...\n",
       "205  Jace Sternberger     0.027     0.0\n",
       "206       Jesse James     0.025     0.5\n",
       "207         Irv Smith     0.025     0.0\n",
       "208     Foster Moreau     0.025     0.0\n",
       "209       Dawson Knox     0.024     0.1\n",
       "\n",
       "[210 rows x 3 columns]"
      ]
     },
     "execution_count": 17,
     "metadata": {},
     "output_type": "execute_result"
    }
   ],
   "source": [
    "df"
   ]
  },
  {
   "cell_type": "code",
   "execution_count": 2,
   "metadata": {
    "ExecuteTime": {
     "end_time": "2020-05-27T04:00:19.058275Z",
     "start_time": "2020-05-27T04:00:19.053510Z"
    }
   },
   "outputs": [
    {
     "name": "stdout",
     "output_type": "stream",
     "text": [
      "/Users/seanammirati/dev/Tic-Tac-Toe-Gym_Environment/gym-tictac4\n"
     ]
    }
   ],
   "source": [
    "cd ../../Tic-Tac-Toe-Gym_Environment/gym-tictac4\n"
   ]
  },
  {
   "cell_type": "code",
   "execution_count": 4,
   "metadata": {
    "ExecuteTime": {
     "end_time": "2020-05-27T04:00:23.185986Z",
     "start_time": "2020-05-27T04:00:23.165492Z"
    }
   },
   "outputs": [],
   "source": [
    "%load_ext autoreload\n",
    "%autoreload 2"
   ]
  },
  {
   "cell_type": "code",
   "execution_count": 31,
   "metadata": {
    "ExecuteTime": {
     "end_time": "2020-05-27T04:14:09.829082Z",
     "start_time": "2020-05-27T04:14:09.667774Z"
    }
   },
   "outputs": [
    {
     "name": "stderr",
     "output_type": "stream",
     "text": [
      "/Users/seanammirati/opt/anaconda3/envs/fantasy_sports/lib/python3.7/site-packages/gym/logger.py:30: UserWarning: \u001b[33mWARN: Box bound precision lowered by casting to float32\u001b[0m\n",
      "  warnings.warn(colorize('%s: %s'%('WARN', msg % args), 'yellow'))\n"
     ]
    }
   ],
   "source": [
    "import gym\n",
    "import gym_tictac4\n",
    "env = gym.make('tictac4-v0')"
   ]
  },
  {
   "cell_type": "code",
   "execution_count": 32,
   "metadata": {
    "ExecuteTime": {
     "end_time": "2020-05-27T04:14:12.001444Z",
     "start_time": "2020-05-27T04:14:11.940113Z"
    }
   },
   "outputs": [
    {
     "data": {
      "text/html": [
       "<div>\n",
       "<style scoped>\n",
       "    .dataframe tbody tr th:only-of-type {\n",
       "        vertical-align: middle;\n",
       "    }\n",
       "\n",
       "    .dataframe tbody tr th {\n",
       "        vertical-align: top;\n",
       "    }\n",
       "\n",
       "    .dataframe thead th {\n",
       "        text-align: right;\n",
       "    }\n",
       "</style>\n",
       "<table border=\"1\" class=\"dataframe\">\n",
       "  <thead>\n",
       "    <tr style=\"text-align: right;\">\n",
       "      <th></th>\n",
       "      <th>position</th>\n",
       "      <th>age</th>\n",
       "      <th>exp</th>\n",
       "      <th>pos</th>\n",
       "      <th>avg_type</th>\n",
       "      <th>points</th>\n",
       "      <th>pos_rank</th>\n",
       "      <th>drop_off</th>\n",
       "      <th>sd_pts</th>\n",
       "      <th>floor</th>\n",
       "      <th>...</th>\n",
       "      <th>tier</th>\n",
       "      <th>points_vor</th>\n",
       "      <th>rank</th>\n",
       "      <th>floor_vor</th>\n",
       "      <th>floor_rank</th>\n",
       "      <th>ceiling_vor</th>\n",
       "      <th>ceiling_rank</th>\n",
       "      <th>full_name</th>\n",
       "      <th>proj_probability_of_injury_game</th>\n",
       "      <th>proj_number_of_games_if_injured</th>\n",
       "    </tr>\n",
       "  </thead>\n",
       "  <tbody>\n",
       "    <tr>\n",
       "      <th>0</th>\n",
       "      <td>QB</td>\n",
       "      <td>23.0</td>\n",
       "      <td>1</td>\n",
       "      <td>QB</td>\n",
       "      <td>average</td>\n",
       "      <td>347.189017</td>\n",
       "      <td>1</td>\n",
       "      <td>28.906850</td>\n",
       "      <td>12.985372</td>\n",
       "      <td>340.610500</td>\n",
       "      <td>...</td>\n",
       "      <td>1.0</td>\n",
       "      <td>96.948891</td>\n",
       "      <td>4</td>\n",
       "      <td>99.138033</td>\n",
       "      <td>5</td>\n",
       "      <td>87.089435</td>\n",
       "      <td>7</td>\n",
       "      <td>Lamar Jackson</td>\n",
       "      <td>0.018</td>\n",
       "      <td>0.1</td>\n",
       "    </tr>\n",
       "    <tr>\n",
       "      <th>1</th>\n",
       "      <td>QB</td>\n",
       "      <td>25.0</td>\n",
       "      <td>2</td>\n",
       "      <td>QB</td>\n",
       "      <td>average</td>\n",
       "      <td>338.557748</td>\n",
       "      <td>2</td>\n",
       "      <td>46.223967</td>\n",
       "      <td>23.897179</td>\n",
       "      <td>326.289200</td>\n",
       "      <td>...</td>\n",
       "      <td>1.0</td>\n",
       "      <td>88.317622</td>\n",
       "      <td>6</td>\n",
       "      <td>84.816733</td>\n",
       "      <td>8</td>\n",
       "      <td>91.842421</td>\n",
       "      <td>4</td>\n",
       "      <td>Patrick Mahomes</td>\n",
       "      <td>0.017</td>\n",
       "      <td>0.1</td>\n",
       "    </tr>\n",
       "    <tr>\n",
       "      <th>2</th>\n",
       "      <td>QB</td>\n",
       "      <td>27.0</td>\n",
       "      <td>3</td>\n",
       "      <td>QB</td>\n",
       "      <td>average</td>\n",
       "      <td>298.006586</td>\n",
       "      <td>3</td>\n",
       "      <td>12.587684</td>\n",
       "      <td>8.782548</td>\n",
       "      <td>293.902992</td>\n",
       "      <td>...</td>\n",
       "      <td>2.0</td>\n",
       "      <td>47.766460</td>\n",
       "      <td>20</td>\n",
       "      <td>52.430525</td>\n",
       "      <td>22</td>\n",
       "      <td>30.960277</td>\n",
       "      <td>39</td>\n",
       "      <td>Dak Prescott</td>\n",
       "      <td>0.018</td>\n",
       "      <td>0.1</td>\n",
       "    </tr>\n",
       "    <tr>\n",
       "      <th>3</th>\n",
       "      <td>QB</td>\n",
       "      <td>32.0</td>\n",
       "      <td>7</td>\n",
       "      <td>QB</td>\n",
       "      <td>average</td>\n",
       "      <td>286.660977</td>\n",
       "      <td>4</td>\n",
       "      <td>5.142166</td>\n",
       "      <td>22.037224</td>\n",
       "      <td>261.672000</td>\n",
       "      <td>...</td>\n",
       "      <td>2.0</td>\n",
       "      <td>36.420851</td>\n",
       "      <td>37</td>\n",
       "      <td>20.199533</td>\n",
       "      <td>66</td>\n",
       "      <td>28.899787</td>\n",
       "      <td>45</td>\n",
       "      <td>Russell Wilson</td>\n",
       "      <td>0.024</td>\n",
       "      <td>0.2</td>\n",
       "    </tr>\n",
       "    <tr>\n",
       "      <th>4</th>\n",
       "      <td>QB</td>\n",
       "      <td>25.0</td>\n",
       "      <td>2</td>\n",
       "      <td>QB</td>\n",
       "      <td>average</td>\n",
       "      <td>284.176827</td>\n",
       "      <td>5</td>\n",
       "      <td>5.580129</td>\n",
       "      <td>5.828548</td>\n",
       "      <td>282.462900</td>\n",
       "      <td>...</td>\n",
       "      <td>3.0</td>\n",
       "      <td>33.936701</td>\n",
       "      <td>43</td>\n",
       "      <td>40.990433</td>\n",
       "      <td>38</td>\n",
       "      <td>13.971388</td>\n",
       "      <td>75</td>\n",
       "      <td>Deshaun Watson</td>\n",
       "      <td>0.033</td>\n",
       "      <td>2.1</td>\n",
       "    </tr>\n",
       "    <tr>\n",
       "      <th>...</th>\n",
       "      <td>...</td>\n",
       "      <td>...</td>\n",
       "      <td>...</td>\n",
       "      <td>...</td>\n",
       "      <td>...</td>\n",
       "      <td>...</td>\n",
       "      <td>...</td>\n",
       "      <td>...</td>\n",
       "      <td>...</td>\n",
       "      <td>...</td>\n",
       "      <td>...</td>\n",
       "      <td>...</td>\n",
       "      <td>...</td>\n",
       "      <td>...</td>\n",
       "      <td>...</td>\n",
       "      <td>...</td>\n",
       "      <td>...</td>\n",
       "      <td>...</td>\n",
       "      <td>...</td>\n",
       "      <td>...</td>\n",
       "      <td>...</td>\n",
       "    </tr>\n",
       "    <tr>\n",
       "      <th>518</th>\n",
       "      <td>WR</td>\n",
       "      <td>26.0</td>\n",
       "      <td>0</td>\n",
       "      <td>WR</td>\n",
       "      <td>average</td>\n",
       "      <td>-0.300000</td>\n",
       "      <td>118</td>\n",
       "      <td>0.186552</td>\n",
       "      <td>NaN</td>\n",
       "      <td>-0.300000</td>\n",
       "      <td>...</td>\n",
       "      <td>NaN</td>\n",
       "      <td>-115.939056</td>\n",
       "      <td>420</td>\n",
       "      <td>-100.572000</td>\n",
       "      <td>406</td>\n",
       "      <td>-140.896167</td>\n",
       "      <td>446</td>\n",
       "      <td>John Ursua</td>\n",
       "      <td>NaN</td>\n",
       "      <td>NaN</td>\n",
       "    </tr>\n",
       "    <tr>\n",
       "      <th>519</th>\n",
       "      <td>WR</td>\n",
       "      <td>24.0</td>\n",
       "      <td>1</td>\n",
       "      <td>WR</td>\n",
       "      <td>average</td>\n",
       "      <td>-0.373103</td>\n",
       "      <td>119</td>\n",
       "      <td>0.226897</td>\n",
       "      <td>0.159952</td>\n",
       "      <td>0.425103</td>\n",
       "      <td>...</td>\n",
       "      <td>33.0</td>\n",
       "      <td>-116.012159</td>\n",
       "      <td>421</td>\n",
       "      <td>-99.846897</td>\n",
       "      <td>396</td>\n",
       "      <td>-139.967477</td>\n",
       "      <td>429</td>\n",
       "      <td>Russell Gage</td>\n",
       "      <td>NaN</td>\n",
       "      <td>NaN</td>\n",
       "    </tr>\n",
       "    <tr>\n",
       "      <th>520</th>\n",
       "      <td>WR</td>\n",
       "      <td>24.0</td>\n",
       "      <td>0</td>\n",
       "      <td>WR</td>\n",
       "      <td>average</td>\n",
       "      <td>-0.600000</td>\n",
       "      <td>120</td>\n",
       "      <td>0.215000</td>\n",
       "      <td>NaN</td>\n",
       "      <td>-0.600000</td>\n",
       "      <td>...</td>\n",
       "      <td>NaN</td>\n",
       "      <td>-116.239056</td>\n",
       "      <td>422</td>\n",
       "      <td>-100.872000</td>\n",
       "      <td>407</td>\n",
       "      <td>-141.196167</td>\n",
       "      <td>447</td>\n",
       "      <td>Kelvin Harmon</td>\n",
       "      <td>0.018</td>\n",
       "      <td>0.1</td>\n",
       "    </tr>\n",
       "    <tr>\n",
       "      <th>521</th>\n",
       "      <td>WR</td>\n",
       "      <td>24.0</td>\n",
       "      <td>0</td>\n",
       "      <td>WR</td>\n",
       "      <td>average</td>\n",
       "      <td>-0.600000</td>\n",
       "      <td>120</td>\n",
       "      <td>NaN</td>\n",
       "      <td>NaN</td>\n",
       "      <td>-0.600000</td>\n",
       "      <td>...</td>\n",
       "      <td>NaN</td>\n",
       "      <td>-116.239056</td>\n",
       "      <td>422</td>\n",
       "      <td>-100.872000</td>\n",
       "      <td>407</td>\n",
       "      <td>-141.196167</td>\n",
       "      <td>447</td>\n",
       "      <td>Miles Boykin</td>\n",
       "      <td>0.018</td>\n",
       "      <td>0.1</td>\n",
       "    </tr>\n",
       "    <tr>\n",
       "      <th>522</th>\n",
       "      <td>WR</td>\n",
       "      <td>29.0</td>\n",
       "      <td>5</td>\n",
       "      <td>WR</td>\n",
       "      <td>average</td>\n",
       "      <td>-1.030000</td>\n",
       "      <td>121</td>\n",
       "      <td>NaN</td>\n",
       "      <td>NaN</td>\n",
       "      <td>-1.030000</td>\n",
       "      <td>...</td>\n",
       "      <td>NaN</td>\n",
       "      <td>-116.669056</td>\n",
       "      <td>424</td>\n",
       "      <td>-101.302000</td>\n",
       "      <td>408</td>\n",
       "      <td>-141.626167</td>\n",
       "      <td>449</td>\n",
       "      <td>Allen Hurns</td>\n",
       "      <td>0.048</td>\n",
       "      <td>1.6</td>\n",
       "    </tr>\n",
       "  </tbody>\n",
       "</table>\n",
       "<p>523 rows × 21 columns</p>\n",
       "</div>"
      ],
      "text/plain": [
       "    position   age  exp pos avg_type      points  pos_rank   drop_off  \\\n",
       "0         QB  23.0    1  QB  average  347.189017         1  28.906850   \n",
       "1         QB  25.0    2  QB  average  338.557748         2  46.223967   \n",
       "2         QB  27.0    3  QB  average  298.006586         3  12.587684   \n",
       "3         QB  32.0    7  QB  average  286.660977         4   5.142166   \n",
       "4         QB  25.0    2  QB  average  284.176827         5   5.580129   \n",
       "..       ...   ...  ...  ..      ...         ...       ...        ...   \n",
       "518       WR  26.0    0  WR  average   -0.300000       118   0.186552   \n",
       "519       WR  24.0    1  WR  average   -0.373103       119   0.226897   \n",
       "520       WR  24.0    0  WR  average   -0.600000       120   0.215000   \n",
       "521       WR  24.0    0  WR  average   -0.600000       120        NaN   \n",
       "522       WR  29.0    5  WR  average   -1.030000       121        NaN   \n",
       "\n",
       "        sd_pts       floor  ...  tier  points_vor  rank   floor_vor  \\\n",
       "0    12.985372  340.610500  ...   1.0   96.948891     4   99.138033   \n",
       "1    23.897179  326.289200  ...   1.0   88.317622     6   84.816733   \n",
       "2     8.782548  293.902992  ...   2.0   47.766460    20   52.430525   \n",
       "3    22.037224  261.672000  ...   2.0   36.420851    37   20.199533   \n",
       "4     5.828548  282.462900  ...   3.0   33.936701    43   40.990433   \n",
       "..         ...         ...  ...   ...         ...   ...         ...   \n",
       "518        NaN   -0.300000  ...   NaN -115.939056   420 -100.572000   \n",
       "519   0.159952    0.425103  ...  33.0 -116.012159   421  -99.846897   \n",
       "520        NaN   -0.600000  ...   NaN -116.239056   422 -100.872000   \n",
       "521        NaN   -0.600000  ...   NaN -116.239056   422 -100.872000   \n",
       "522        NaN   -1.030000  ...   NaN -116.669056   424 -101.302000   \n",
       "\n",
       "     floor_rank  ceiling_vor  ceiling_rank        full_name  \\\n",
       "0             5    87.089435             7    Lamar Jackson   \n",
       "1             8    91.842421             4  Patrick Mahomes   \n",
       "2            22    30.960277            39     Dak Prescott   \n",
       "3            66    28.899787            45   Russell Wilson   \n",
       "4            38    13.971388            75   Deshaun Watson   \n",
       "..          ...          ...           ...              ...   \n",
       "518         406  -140.896167           446       John Ursua   \n",
       "519         396  -139.967477           429     Russell Gage   \n",
       "520         407  -141.196167           447    Kelvin Harmon   \n",
       "521         407  -141.196167           447     Miles Boykin   \n",
       "522         408  -141.626167           449      Allen Hurns   \n",
       "\n",
       "    proj_probability_of_injury_game  proj_number_of_games_if_injured  \n",
       "0                             0.018                              0.1  \n",
       "1                             0.017                              0.1  \n",
       "2                             0.018                              0.1  \n",
       "3                             0.024                              0.2  \n",
       "4                             0.033                              2.1  \n",
       "..                              ...                              ...  \n",
       "518                             NaN                              NaN  \n",
       "519                             NaN                              NaN  \n",
       "520                           0.018                              0.1  \n",
       "521                           0.018                              0.1  \n",
       "522                           0.048                              1.6  \n",
       "\n",
       "[523 rows x 21 columns]"
      ]
     },
     "execution_count": 32,
     "metadata": {},
     "output_type": "execute_result"
    }
   ],
   "source": [
    "env.input_df.iloc[:, 5:]"
   ]
  },
  {
   "cell_type": "code",
   "execution_count": 33,
   "metadata": {
    "ExecuteTime": {
     "end_time": "2020-05-27T04:14:13.921577Z",
     "start_time": "2020-05-27T04:14:13.902584Z"
    }
   },
   "outputs": [
    {
     "data": {
      "text/plain": [
       "[3, 1, 2]"
      ]
     },
     "execution_count": 33,
     "metadata": {},
     "output_type": "execute_result"
    }
   ],
   "source": [
    "a = [1,2,3]\n",
    "np.random.shuffle(a)\n",
    "a"
   ]
  },
  {
   "cell_type": "code",
   "execution_count": 88,
   "metadata": {
    "ExecuteTime": {
     "end_time": "2020-05-27T04:54:40.611843Z",
     "start_time": "2020-05-27T04:54:40.228226Z"
    }
   },
   "outputs": [
    {
     "name": "stdout",
     "output_type": "stream",
     "text": [
      "[4, 5, 6, 7, 8, 9, 10, 11]\n",
      "[4, 5, 6, 8, 9, 10, 11]\n",
      "[4, 5, 6, 8, 10, 11]\n",
      "[1, 2, 3, 1, 2, 3]\n",
      "[5, 6, 8, 10, 11]\n",
      "[1, 2, 3, 2, 3]\n",
      "[1, 2, 2, 3]\n",
      "[6, 8, 10, 11]\n",
      "[1, 2, 2]\n",
      "[1, 2]\n",
      "[6, 10, 11]\n",
      "[6, 11]\n",
      "[11]\n",
      "[1]\n"
     ]
    },
    {
     "name": "stderr",
     "output_type": "stream",
     "text": [
      "/Users/seanammirati/dev/Tic-Tac-Toe-Gym_Environment/gym-tictac4/gym_tictac4/envs/tictac4_env.py:136: SettingWithCopyWarning: \n",
      "A value is trying to be set on a copy of a slice from a DataFrame\n",
      "\n",
      "See the caveats in the documentation: https://pandas.pydata.org/pandas-docs/stable/user_guide/indexing.html#returning-a-view-versus-a-copy\n",
      "  df['injured'] = df['injured'] | (current_effect > 0)\n"
     ]
    }
   ],
   "source": [
    "a, b = env._simulate_actual_outcomes()"
   ]
  },
  {
   "cell_type": "code",
   "execution_count": 89,
   "metadata": {
    "ExecuteTime": {
     "end_time": "2020-05-27T04:54:42.678904Z",
     "start_time": "2020-05-27T04:54:42.658117Z"
    }
   },
   "outputs": [
    {
     "data": {
      "text/plain": [
       "0      347.189017\n",
       "1      338.557748\n",
       "2      298.006586\n",
       "3      286.660977\n",
       "4      284.176827\n",
       "          ...    \n",
       "518     -0.300000\n",
       "519     -0.373103\n",
       "520     -0.600000\n",
       "521     -0.600000\n",
       "522     -1.030000\n",
       "Name: points, Length: 523, dtype: float64"
      ]
     },
     "execution_count": 89,
     "metadata": {},
     "output_type": "execute_result"
    }
   ],
   "source": [
    "env.input_df['points']"
   ]
  },
  {
   "cell_type": "code",
   "execution_count": 90,
   "metadata": {
    "ExecuteTime": {
     "end_time": "2020-05-27T04:54:44.757265Z",
     "start_time": "2020-05-27T04:54:44.737855Z"
    }
   },
   "outputs": [
    {
     "data": {
      "text/plain": [
       "id        10695.00\n",
       "points      227.24\n",
       "Name: 23, dtype: float64"
      ]
     },
     "execution_count": 90,
     "metadata": {},
     "output_type": "execute_result"
    }
   ],
   "source": [
    "env.input_df[['id', 'points']].loc[23]"
   ]
  },
  {
   "cell_type": "code",
   "execution_count": null,
   "metadata": {},
   "outputs": [],
   "source": []
  },
  {
   "cell_type": "code",
   "execution_count": 100,
   "metadata": {
    "ExecuteTime": {
     "end_time": "2020-05-27T04:55:19.355027Z",
     "start_time": "2020-05-27T04:55:19.330516Z"
    }
   },
   "outputs": [
    {
     "data": {
      "text/plain": [
       "0      22.705446\n",
       "1      25.150625\n",
       "2      18.167001\n",
       "3      19.160845\n",
       "4      18.142403\n",
       "         ...    \n",
       "518     1.415954\n",
       "519    -0.010802\n",
       "520    -0.600000\n",
       "521     2.128076\n",
       "522     7.778127\n",
       "Name: points, Length: 523, dtype: float64"
      ]
     },
     "execution_count": 100,
     "metadata": {},
     "output_type": "execute_result"
    }
   ],
   "source": [
    "b[1]['points']"
   ]
  },
  {
   "cell_type": "code",
   "execution_count": 103,
   "metadata": {
    "ExecuteTime": {
     "end_time": "2020-05-27T04:55:56.980418Z",
     "start_time": "2020-05-27T04:55:56.953132Z"
    }
   },
   "outputs": [
    {
     "data": {
      "text/plain": [
       "-600000"
      ]
     },
     "execution_count": 103,
     "metadata": {},
     "output_type": "execute_result"
    }
   ],
   "source": [
    "env._determine_rank_complete(env.state)"
   ]
  },
  {
   "cell_type": "code",
   "execution_count": null,
   "metadata": {},
   "outputs": [],
   "source": []
  },
  {
   "cell_type": "code",
   "execution_count": 16,
   "metadata": {
    "ExecuteTime": {
     "end_time": "2020-05-27T03:59:30.236434Z",
     "start_time": "2020-05-27T03:59:30.232838Z"
    }
   },
   "outputs": [
    {
     "ename": "SyntaxError",
     "evalue": "invalid syntax (<ipython-input-16-50a5a3ad19b6>, line 1)",
     "output_type": "error",
     "traceback": [
      "\u001b[0;36m  File \u001b[0;32m\"<ipython-input-16-50a5a3ad19b6>\"\u001b[0;36m, line \u001b[0;32m1\u001b[0m\n\u001b[0;31m    env.in\u001b[0m\n\u001b[0m         ^\u001b[0m\n\u001b[0;31mSyntaxError\u001b[0m\u001b[0;31m:\u001b[0m invalid syntax\n"
     ]
    }
   ],
   "source": [
    "env.in"
   ]
  },
  {
   "cell_type": "code",
   "execution_count": 13,
   "metadata": {
    "ExecuteTime": {
     "end_time": "2020-05-27T03:52:10.845691Z",
     "start_time": "2020-05-27T03:52:10.839977Z"
    }
   },
   "outputs": [
    {
     "data": {
      "text/plain": [
       "0      2\n",
       "1      2\n",
       "2      2\n",
       "3      2\n",
       "4      2\n",
       "      ..\n",
       "194    2\n",
       "195    2\n",
       "196    2\n",
       "197    2\n",
       "198    2\n",
       "Name: rank, Length: 199, dtype: int64"
      ]
     },
     "execution_count": 13,
     "metadata": {},
     "output_type": "execute_result"
    }
   ],
   "source": [
    "env.input_df['rank'].apply(lambda x: min(x, 2))"
   ]
  },
  {
   "cell_type": "raw",
   "metadata": {},
   "source": []
  }
 ],
 "metadata": {
  "kernelspec": {
   "display_name": "Python [conda env:fantasy_sports]",
   "language": "python",
   "name": "conda-env-fantasy_sports-py"
  },
  "language_info": {
   "codemirror_mode": {
    "name": "ipython",
    "version": 3
   },
   "file_extension": ".py",
   "mimetype": "text/x-python",
   "name": "python",
   "nbconvert_exporter": "python",
   "pygments_lexer": "ipython3",
   "version": "3.7.6"
  },
  "toc": {
   "base_numbering": 1,
   "nav_menu": {},
   "number_sections": true,
   "sideBar": true,
   "skip_h1_title": false,
   "title_cell": "Table of Contents",
   "title_sidebar": "Contents",
   "toc_cell": false,
   "toc_position": {},
   "toc_section_display": true,
   "toc_window_display": false
  },
  "varInspector": {
   "cols": {
    "lenName": 16,
    "lenType": 16,
    "lenVar": 40
   },
   "kernels_config": {
    "python": {
     "delete_cmd_postfix": "",
     "delete_cmd_prefix": "del ",
     "library": "var_list.py",
     "varRefreshCmd": "print(var_dic_list())"
    },
    "r": {
     "delete_cmd_postfix": ") ",
     "delete_cmd_prefix": "rm(",
     "library": "var_list.r",
     "varRefreshCmd": "cat(var_dic_list()) "
    }
   },
   "types_to_exclude": [
    "module",
    "function",
    "builtin_function_or_method",
    "instance",
    "_Feature"
   ],
   "window_display": false
  }
 },
 "nbformat": 4,
 "nbformat_minor": 2
}
